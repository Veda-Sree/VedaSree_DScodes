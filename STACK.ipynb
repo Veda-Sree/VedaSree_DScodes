{
  "nbformat": 4,
  "nbformat_minor": 0,
  "metadata": {
    "colab": {
      "provenance": [],
      "authorship_tag": "ABX9TyP7VHvfBCv0hbH9wJEBbVfd",
      "include_colab_link": true
    },
    "kernelspec": {
      "name": "python3",
      "display_name": "Python 3"
    },
    "language_info": {
      "name": "python"
    }
  },
  "cells": [
    {
      "cell_type": "markdown",
      "metadata": {
        "id": "view-in-github",
        "colab_type": "text"
      },
      "source": [
        "<a href=\"https://colab.research.google.com/github/Veda-Sree/VedaSree_DScodes/blob/main/STACK.ipynb\" target=\"_parent\"><img src=\"https://colab.research.google.com/assets/colab-badge.svg\" alt=\"Open In Colab\"/></a>"
      ]
    },
    {
      "cell_type": "code",
      "source": [
        "#STACK\n",
        "class Stack:\n",
        "    def __init__(self):\n",
        "        self.items = []\n",
        "\n",
        "    def push(self, item):\n",
        "        self.items.append(item)\n",
        "\n",
        "    def pop(self):\n",
        "        return self.items.pop()\n",
        "\n",
        "    def peek(self):\n",
        "        return self.items[-1]\n",
        "\n",
        "    def is_empty(self):\n",
        "        return not self.items\n",
        "    def display(self):\n",
        "        for item in self.items:\n",
        "            print(item)\n",
        "\n",
        "\n",
        "def print_menu():\n",
        "    print('1. Push an item onto the stack')\n",
        "    print('2. Pop an item from the stack')\n",
        "    print('3. Peek at the top item on the stack')\n",
        "    print('4. Check if the stack is empty')\n",
        "    print('5. Quit')\n",
        "    print('6.Display')\n",
        "    print()\n",
        "\n",
        "\n",
        "stack = Stack()\n",
        "\n",
        "while True:\n",
        "    print_menu()\n",
        "    choice = int(input('Enter your choice: '))\n",
        "\n",
        "    if choice == 1:\n",
        "        item = input('Enter an item to push: ')\n",
        "        stack.push(item)\n",
        "    elif choice == 2:\n",
        "        if stack.is_empty():\n",
        "            print('The stack is empty.')\n",
        "        else:\n",
        "            print('Popped', stack.pop())\n",
        "    elif choice == 3:\n",
        "        if stack.is_empty():\n",
        "            print('The stack is empty.')\n",
        "        else:\n",
        "            print('Peeked', stack.peek())\n",
        "    elif choice == 4:\n",
        "        if stack.is_empty():\n",
        "            print('The stack is empty.')\n",
        "        else:\n",
        "            print('The stack is not empty.')\n",
        "    elif choice == 5:\n",
        "        break\n",
        "    elif choice==6:\n",
        "        print(\"Stack contains:\",stack.display())\n",
        "    else:\n",
        "        print('Invalid choice. Enter a number between 1 and 6.')\n",
        "    print()\n"
      ],
      "metadata": {
        "colab": {
          "base_uri": "https://localhost:8080/"
        },
        "id": "z3ZFsh8be1Sf",
        "outputId": "087cc27f-e80d-44e5-a039-4d412f9d8700"
      },
      "execution_count": 32,
      "outputs": [
        {
          "name": "stdout",
          "output_type": "stream",
          "text": [
            "1. Push an item onto the stack\n",
            "2. Pop an item from the stack\n",
            "3. Peek at the top item on the stack\n",
            "4. Check if the stack is empty\n",
            "5. Quit\n",
            "6.Display\n",
            "\n",
            "Enter your choice: 1\n",
            "Enter an item to push: 3\n",
            "\n",
            "1. Push an item onto the stack\n",
            "2. Pop an item from the stack\n",
            "3. Peek at the top item on the stack\n",
            "4. Check if the stack is empty\n",
            "5. Quit\n",
            "6.Display\n",
            "\n",
            "Enter your choice: 5\n"
          ]
        }
      ]
    }
  ]
}