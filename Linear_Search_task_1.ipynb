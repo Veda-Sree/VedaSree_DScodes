{
  "nbformat": 4,
  "nbformat_minor": 0,
  "metadata": {
    "colab": {
      "provenance": []
    },
    "kernelspec": {
      "name": "python3",
      "display_name": "Python 3"
    },
    "language_info": {
      "name": "python"
    }
  },
  "cells": [
    {
      "cell_type": "code",
      "execution_count": null,
      "metadata": {
        "id": "DTo2hJY1ObES"
      },
      "outputs": [],
      "source": [
        "list=[10, 35, 42, 51, 62]\n",
        "n=int(input(\"Enter value needed=\"))\n",
        "for i in list:\n",
        "  if n ==i:\n",
        "    flag=1\n",
        "    break\n",
        "  else:\n",
        "    flag=0\n",
        "\n",
        "if flag==1:\n",
        " print(\"Value found\")\n",
        "else:\n",
        " print(\"Value not found\")"
      ]
    }
  ]
}