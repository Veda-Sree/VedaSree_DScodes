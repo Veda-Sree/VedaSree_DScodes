{
  "nbformat": 4,
  "nbformat_minor": 0,
  "metadata": {
    "colab": {
      "provenance": [],
      "authorship_tag": "ABX9TyNQqI3wfgfEmrmnmFzeTZFm",
      "include_colab_link": true
    },
    "kernelspec": {
      "name": "python3",
      "display_name": "Python 3"
    },
    "language_info": {
      "name": "python"
    }
  },
  "cells": [
    {
      "cell_type": "markdown",
      "metadata": {
        "id": "view-in-github",
        "colab_type": "text"
      },
      "source": [
        "<a href=\"https://colab.research.google.com/github/Veda-Sree/VedaSree_DScodes/blob/main/CLL_1.ipynb\" target=\"_parent\"><img src=\"https://colab.research.google.com/assets/colab-badge.svg\" alt=\"Open In Colab\"/></a>"
      ]
    },
    {
      "cell_type": "code",
      "source": [
        "class Node:\n",
        "    def __init__(self, data=None):\n",
        "        self.data = data\n",
        "        self.next = None\n",
        "\n",
        "class CircularLinkedList:\n",
        "    def __init__(self):\n",
        "        self.head = None\n",
        "\n",
        "    def append(self, data):\n",
        "        new_node = Node(data)\n",
        "        if self.head is None:\n",
        "            self.head = new_node\n",
        "            new_node.next = self.head\n",
        "        else:\n",
        "            current_node = self.head\n",
        "            while current_node.next != self.head:\n",
        "                current_node = current_node.next\n",
        "            current_node.next = new_node\n",
        "            new_node.next = self.head\n",
        "\n",
        "    def prepend(self, data):\n",
        "        new_node = Node(data)\n",
        "        if self.head is None:\n",
        "            self.head = new_node\n",
        "            new_node.next = self.head\n",
        "        else:\n",
        "            current_node = self.head\n",
        "            while current_node.next != self.head:\n",
        "                current_node = current_node.next\n",
        "            current_node.next = new_node\n",
        "            new_node.next = self.head\n",
        "            self.head = new_node\n",
        "\n",
        "    def delete(self, data):\n",
        "        if self.head is None:\n",
        "            return\n",
        "        if self.head.data == data:\n",
        "            current_node = self.head\n",
        "            while current_node.next != self.head:\n",
        "                current_node = current_node.next\n",
        "            if self.head == self.head.next:\n",
        "                self.head = None\n",
        "            else:\n",
        "                current_node.next = self.head.next\n",
        "                self.head = self.head.next\n",
        "        else:\n",
        "            current_node = self.head\n",
        "            while current_node.next != self.head:\n",
        "                if current_node.next.data == data:\n",
        "                    current_node.next = current_node.next.next\n",
        "                    break\n",
        "                current_node = current_node.next\n",
        "\n",
        "    def display(self):\n",
        "        elements = []\n",
        "        current_node = self.head\n",
        "        while current_node:\n",
        "            elements.append(current_node.data)\n",
        "            current_node = current_node.next\n",
        "            if current_node == self.head:\n",
        "                break\n",
        "        print(elements)\n",
        "\n",
        "c_list = CircularLinkedList()\n",
        "\n",
        "while True:\n",
        "    print(\"Menu:\")\n",
        "    print(\"1. Append an element\")\n",
        "    print(\"2. Prepend an element\")\n",
        "    print(\"3. Delete an element\")\n",
        "    print(\"4. Display the list\")\n",
        "    print(\"5. Exit\")\n",
        "\n",
        "    choice = int(input(\"Enter your choice: \"))\n",
        "\n",
        "    if choice == 1:\n",
        "        data = input(\"Enter the element to append: \")\n",
        "        c_list.append(data)\n",
        "    elif choice == 2:\n",
        "        data = input(\"Enter the element to prepend: \")\n",
        "        c_list.prepend(data)\n",
        "    elif choice == 3:\n",
        "        data = input(\"Enter the element to delete: \")\n",
        "        c_list.delete(data)\n",
        "    elif choice == 4:\n",
        "        c_list.display()\n",
        "    elif choice == 5:\n",
        "        break\n",
        "   "
      ],
      "metadata": {
        "colab": {
          "base_uri": "https://localhost:8080/"
        },
        "id": "z3ZFsh8be1Sf",
        "outputId": "901e26ae-d9b1-4145-b062-f5ef6510da18"
      },
      "execution_count": 29,
      "outputs": [
        {
          "name": "stdout",
          "output_type": "stream",
          "text": [
            "Menu:\n",
            "1. Append an element\n",
            "2. Prepend an element\n",
            "3. Delete an element\n",
            "4. Display the list\n",
            "5. Exit\n",
            "Enter your choice: 3\n",
            "Enter the element to delete: 2\n",
            "Menu:\n",
            "1. Append an element\n",
            "2. Prepend an element\n",
            "3. Delete an element\n",
            "4. Display the list\n",
            "5. Exit\n",
            "Enter your choice: 4\n",
            "[]\n",
            "Menu:\n",
            "1. Append an element\n",
            "2. Prepend an element\n",
            "3. Delete an element\n",
            "4. Display the list\n",
            "5. Exit\n",
            "Enter your choice: 5\n"
          ]
        }
      ]
    }
  ]
}