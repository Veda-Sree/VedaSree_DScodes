{
  "nbformat": 4,
  "nbformat_minor": 0,
  "metadata": {
    "colab": {
      "provenance": [],
      "authorship_tag": "ABX9TyMhHBmPF9uDokzObAnpKr61",
      "include_colab_link": true
    },
    "kernelspec": {
      "name": "python3",
      "display_name": "Python 3"
    },
    "language_info": {
      "name": "python"
    }
  },
  "cells": [
    {
      "cell_type": "markdown",
      "metadata": {
        "id": "view-in-github",
        "colab_type": "text"
      },
      "source": [
        "<a href=\"https://colab.research.google.com/github/Veda-Sree/VedaSree_DScodes/blob/main/SLL.ipynb\" target=\"_parent\"><img src=\"https://colab.research.google.com/assets/colab-badge.svg\" alt=\"Open In Colab\"/></a>"
      ]
    },
    {
      "cell_type": "code",
      "source": [
        "class Node:\n",
        "    def __init__(self, data=None, next=None):\n",
        "        self.data = data\n",
        "        self.next = next\n",
        "\n",
        "\n",
        "class LinkedList:\n",
        "    def __init__(self):\n",
        "        self.head = None\n",
        "\n",
        "    def insert_at_front(self, data):\n",
        "        new_node = Node(data, self.head)\n",
        "        self.head = new_node\n",
        "\n",
        "    def insert_at_end(self, data):\n",
        "        new_node = Node(data)\n",
        "        if self.head is None:\n",
        "            self.head = new_node\n",
        "            return\n",
        "        current = self.head\n",
        "        while current.next:\n",
        "            current = current.next\n",
        "        current.next = new_node\n",
        "\n",
        "    def delete_node(self, data):\n",
        "        if self.head is None:\n",
        "            return\n",
        "        if self.head.data == data:\n",
        "            self.head = self.head.next\n",
        "            return\n",
        "        current = self.head\n",
        "        while current.next:\n",
        "            if current.next.data == data:\n",
        "                current.next = current.next.next\n",
        "                return\n",
        "            current = current.next\n",
        "\n",
        "    def search_node(self, data):\n",
        "        current = self.head\n",
        "        while current:\n",
        "            if current.data == data:\n",
        "                return current\n",
        "            current = current.next\n",
        "        return None\n",
        "\n",
        "    def print_list(self):\n",
        "        current = self.head\n",
        "        while current:\n",
        "            print(current.data)\n",
        "            current = current.next\n",
        "\n",
        "\n",
        "def print_menu():\n",
        "    print('1. Insert at front')\n",
        "    print('2. Insert at end')\n",
        "    print('3. Delete node')\n",
        "    print('4. Search node')\n",
        "    print('5. Print list')\n",
        "    print('6. Quit')\n",
        "    print()\n",
        "\n",
        "\n",
        "linked_list = LinkedList()\n",
        "\n",
        "while True:\n",
        "    print_menu()\n",
        "    choice = int(input('Enter your choice: '))\n",
        "\n",
        "    if choice == 1:\n",
        "        data = input('Enter data to insert: ')\n",
        "        linked_list.insert_at_front(data)\n",
        "    elif choice == 2:\n",
        "        data = input('Enter data to insert: ')\n",
        "        linked_list.insert_at_end(data)\n",
        "    elif choice == 3:\n",
        "        data = input('Enter data to delete: ')\n",
        "        linked_list.delete_node(data)\n",
        "    elif choice == 4:\n",
        "        data = input('Enter data to find: ')\n",
        "        node = linked_list.search_node(data)\n",
        "        if node:\n",
        "            print('Node found:', node.data)\n",
        "        else:\n",
        "            print('Node not found')\n",
        "    elif choice == 5:\n",
        "        linked_list.print_list()\n",
        "    elif choice == 6:\n",
        "        break\n",
        "    else:\n",
        "        print('Invalid choice. Enter a number between 1 and 6.')\n",
        "    print()"
      ],
      "metadata": {
        "colab": {
          "base_uri": "https://localhost:8080/"
        },
        "id": "z3ZFsh8be1Sf",
        "outputId": "55c65ebf-7d4d-4122-b7ca-c600d89c9c70"
      },
      "execution_count": 27,
      "outputs": [
        {
          "name": "stdout",
          "output_type": "stream",
          "text": [
            "1. Insert at front\n",
            "2. Insert at end\n",
            "3. Delete node\n",
            "4. Search node\n",
            "5. Print list\n",
            "6. Quit\n",
            "\n",
            "Enter your choice: 4\n",
            "Enter data to find: 2\n",
            "Node not found\n",
            "\n",
            "1. Insert at front\n",
            "2. Insert at end\n",
            "3. Delete node\n",
            "4. Search node\n",
            "5. Print list\n",
            "6. Quit\n",
            "\n",
            "Enter your choice: 6\n"
          ]
        }
      ]
    }
  ]
}