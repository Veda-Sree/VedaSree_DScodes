{
  "nbformat": 4,
  "nbformat_minor": 0,
  "metadata": {
    "colab": {
      "provenance": [],
      "authorship_tag": "ABX9TyMI6sSpqJD4zcvfZIO7NY7M",
      "include_colab_link": true
    },
    "kernelspec": {
      "name": "python3",
      "display_name": "Python 3"
    },
    "language_info": {
      "name": "python"
    }
  },
  "cells": [
    {
      "cell_type": "markdown",
      "metadata": {
        "id": "view-in-github",
        "colab_type": "text"
      },
      "source": [
        "<a href=\"https://colab.research.google.com/github/Veda-Sree/VedaSree_DScodes/blob/main/QUEUE.ipynb\" target=\"_parent\"><img src=\"https://colab.research.google.com/assets/colab-badge.svg\" alt=\"Open In Colab\"/></a>"
      ]
    },
    {
      "cell_type": "code",
      "source": [
        "#QUEUE\n",
        "class Queue:\n",
        "    def __init__(self):\n",
        "        self.items = []\n",
        "\n",
        "    def enqueue(self, item):\n",
        "        self.items.append(item)\n",
        "\n",
        "    def dequeue(self):\n",
        "        return self.items.pop(0)\n",
        "\n",
        "    def peek(self):\n",
        "        return self.items[0]\n",
        "\n",
        "    def is_empty(self):\n",
        "        return not self.items\n",
        "    def display(self):\n",
        "        for item in self.items:\n",
        "            print(item)\n",
        "\n",
        "\n",
        "def print_menu():\n",
        "    print('1. Enqueue an item')\n",
        "    print('2. Dequeue an item')\n",
        "    print('3. Peek at the front item')\n",
        "    print('4. Check if the queue is empty')\n",
        "    print('5. Quit')\n",
        "    print()\n",
        "\n",
        "\n",
        "queue = Queue()\n",
        "\n",
        "while True:\n",
        "    print_menu()\n",
        "    choice = int(input('Enter your choice: '))\n",
        "\n",
        "    if choice == 1:\n",
        "        item = input('Enter an item to enqueue: ')\n",
        "        queue.enqueue(item)\n",
        "    elif choice == 2:\n",
        "        if queue.is_empty():\n",
        "            print('The queue is empty.')\n",
        "        else:\n",
        "            print('Dequeued', queue.dequeue())\n",
        "    elif choice == 3:\n",
        "        if queue.is_empty():\n",
        "            print('The queue is empty.')\n",
        "        else:\n",
        "            print('Peeked', queue.peek())\n",
        "    elif choice == 4:\n",
        "        if queue.is_empty():\n",
        "            print('The queue is empty.')\n",
        "        else:\n",
        "            print('The queue is not empty.')\n",
        "    elif choice == 5:\n",
        "        break\n",
        "    elif choice==6:\n",
        "        print(queue.display())\n",
        "    else:\n",
        "        print('Invalid choice. Enter a number between 1 and 5.')\n",
        "    print()"
      ],
      "metadata": {
        "colab": {
          "base_uri": "https://localhost:8080/"
        },
        "id": "z3ZFsh8be1Sf",
        "outputId": "d00b1f8f-5bca-4929-da0a-364fdaea455b"
      },
      "execution_count": 33,
      "outputs": [
        {
          "name": "stdout",
          "output_type": "stream",
          "text": [
            "1. Enqueue an item\n",
            "2. Dequeue an item\n",
            "3. Peek at the front item\n",
            "4. Check if the queue is empty\n",
            "5. Quit\n",
            "\n",
            "Enter your choice: 1\n",
            "Enter an item to enqueue: 4\n",
            "\n",
            "1. Enqueue an item\n",
            "2. Dequeue an item\n",
            "3. Peek at the front item\n",
            "4. Check if the queue is empty\n",
            "5. Quit\n",
            "\n",
            "Enter your choice: 3\n",
            "Peeked 4\n",
            "\n",
            "1. Enqueue an item\n",
            "2. Dequeue an item\n",
            "3. Peek at the front item\n",
            "4. Check if the queue is empty\n",
            "5. Quit\n",
            "\n",
            "Enter your choice: 5\n"
          ]
        }
      ]
    }
  ]
}