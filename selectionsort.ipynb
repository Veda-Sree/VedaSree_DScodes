{
  "nbformat": 4,
  "nbformat_minor": 0,
  "metadata": {
    "colab": {
      "provenance": [],
      "authorship_tag": "ABX9TyMgc0PHgjKR5eJwJyV1feGT",
      "include_colab_link": true
    },
    "kernelspec": {
      "name": "python3",
      "display_name": "Python 3"
    },
    "language_info": {
      "name": "python"
    }
  },
  "cells": [
    {
      "cell_type": "markdown",
      "metadata": {
        "id": "view-in-github",
        "colab_type": "text"
      },
      "source": [
        "<a href=\"https://colab.research.google.com/github/Veda-Sree/VedaSree_DScodes/blob/main/selectionsort.ipynb\" target=\"_parent\"><img src=\"https://colab.research.google.com/assets/colab-badge.svg\" alt=\"Open In Colab\"/></a>"
      ]
    },
    {
      "cell_type": "code",
      "source": [
        "def selectionSort(a, length):\n",
        "\tfor i in range(length):\n",
        "\t\tmin = i\n",
        "\t\tfor j in range(i + 1, length):\n",
        "\t\t\tif a[j] < a[min]:\n",
        "\t\t\t\tmin = j\n",
        "\t\ta[i], a[min] = a[min], a[i]\n",
        "a = [21, 49, 9, 15, 19,78,67,8,1]\n",
        "length = len(a)\n",
        "selectionSort(a,length)\n",
        "print(\"Result=\",a)"
      ],
      "metadata": {
        "colab": {
          "base_uri": "https://localhost:8080/"
        },
        "id": "z3ZFsh8be1Sf",
        "outputId": "73a85445-732b-46d8-ab3f-1ca7fd65df29"
      },
      "execution_count": 13,
      "outputs": [
        {
          "output_type": "stream",
          "name": "stdout",
          "text": [
            "Result= [1, 8, 9, 15, 19, 21, 49, 67, 78]\n"
          ]
        }
      ]
    }
  ]
}