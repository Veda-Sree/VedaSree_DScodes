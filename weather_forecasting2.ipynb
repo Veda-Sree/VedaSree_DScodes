{
  "nbformat": 4,
  "nbformat_minor": 0,
  "metadata": {
    "colab": {
      "provenance": [],
      "authorship_tag": "ABX9TyO04Gn86Cly2YMzI+W3Xag+",
      "include_colab_link": true
    },
    "kernelspec": {
      "name": "python3",
      "display_name": "Python 3"
    },
    "language_info": {
      "name": "python"
    }
  },
  "cells": [
    {
      "cell_type": "markdown",
      "metadata": {
        "id": "view-in-github",
        "colab_type": "text"
      },
      "source": [
        "<a href=\"https://colab.research.google.com/github/Veda-Sree/VedaSree_DScodes/blob/main/weather_forecasting2.ipynb\" target=\"_parent\"><img src=\"https://colab.research.google.com/assets/colab-badge.svg\" alt=\"Open In Colab\"/></a>"
      ]
    },
    {
      "cell_type": "code",
      "execution_count": 5,
      "metadata": {
        "colab": {
          "base_uri": "https://localhost:8080/"
        },
        "id": "LpwU9sz95Eir",
        "outputId": "86918345-2a10-43d8-afc5-3cc47b7e2a4c"
      },
      "outputs": [
        {
          "output_type": "stream",
          "name": "stdout",
          "text": [
            "the inputs required for the quadratic formula are= \n",
            "28\n",
            "65\n",
            "20\n",
            "sunny\n",
            "This file is for weather forecasting.Today's temperature is 64Farenheit\n",
            " 366.0\n"
          ]
        }
      ],
      "source": [
        "#this code is about weather prediction\n",
        "print(\"the inputs required for the quadratic formula are= \")\n",
        "T=int(input()) #TEMPERATURE\n",
        "H=int(input())#HUMIDITY\n",
        "w=int(input())#WIND SPEED\n",
        "#W is weather prediction\n",
        "W=0.5*(T*T)-0.2*(H)+0.1*(w)-15\n",
        "if W>300:\n",
        "    print(\"sunny\")\n",
        "elif 200<W<=300:\n",
        "    print(\"cloudy\")\n",
        "elif 100<W<=200:\n",
        "    print(\"Rainy\")\n",
        "elif W<=100:\n",
        "    print(\"Stormy\")\n",
        "a=open('weatherforecast',\"r\")\n",
        "print(a.read(),W)"
      ]
    },
    {
      "cell_type": "code",
      "source": [],
      "metadata": {
        "id": "pbSJgixeoQ_z"
      },
      "execution_count": null,
      "outputs": []
    },
    {
      "cell_type": "markdown",
      "source": [
        "# New section"
      ],
      "metadata": {
        "id": "O687M3brrBEH"
      }
    }
  ]
}