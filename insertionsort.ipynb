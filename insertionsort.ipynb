{
  "nbformat": 4,
  "nbformat_minor": 0,
  "metadata": {
    "colab": {
      "provenance": [],
      "authorship_tag": "ABX9TyPVmYsDAwkgCUfn7kJVcSwM",
      "include_colab_link": true
    },
    "kernelspec": {
      "name": "python3",
      "display_name": "Python 3"
    },
    "language_info": {
      "name": "python"
    }
  },
  "cells": [
    {
      "cell_type": "markdown",
      "metadata": {
        "id": "view-in-github",
        "colab_type": "text"
      },
      "source": [
        "<a href=\"https://colab.research.google.com/github/Veda-Sree/VedaSree_DScodes/blob/main/insertionsort.ipynb\" target=\"_parent\"><img src=\"https://colab.research.google.com/assets/colab-badge.svg\" alt=\"Open In Colab\"/></a>"
      ]
    },
    {
      "cell_type": "code",
      "source": [
        "def Insertion_Sort(a):\n",
        "\tfor i in range(1, len(a)):\n",
        "\t\tk =a[i]\n",
        "\t\tj = i-1\n",
        "\t\twhile j >=0 and k < a[j] :\n",
        "\t\t\t\ta[j+1] = a[j]\n",
        "\t\t\t\tj -= 1\n",
        "\t\ta[j+1] = k\n",
        "a = [45, 21, 19, 8, 100]\n",
        "Insertion_Sort(a)\n",
        "print(\"Result= \")\t \n",
        "print(a)\n"
      ],
      "metadata": {
        "colab": {
          "base_uri": "https://localhost:8080/"
        },
        "id": "z3ZFsh8be1Sf",
        "outputId": "ed5ac75c-6ba3-4771-ca83-bcb6df79e1b9"
      },
      "execution_count": 19,
      "outputs": [
        {
          "output_type": "stream",
          "name": "stdout",
          "text": [
            "Result= \n",
            "[8, 19, 21, 45, 100]\n"
          ]
        }
      ]
    }
  ]
}