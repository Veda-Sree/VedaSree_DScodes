{
  "nbformat": 4,
  "nbformat_minor": 0,
  "metadata": {
    "colab": {
      "provenance": [],
      "authorship_tag": "ABX9TyMJDqRyEMQD15eaHlQGts1O",
      "include_colab_link": true
    },
    "kernelspec": {
      "name": "python3",
      "display_name": "Python 3"
    },
    "language_info": {
      "name": "python"
    }
  },
  "cells": [
    {
      "cell_type": "markdown",
      "metadata": {
        "id": "view-in-github",
        "colab_type": "text"
      },
      "source": [
        "<a href=\"https://colab.research.google.com/github/Veda-Sree/VedaSree_DScodes/blob/main/quicksort.ipynb\" target=\"_parent\"><img src=\"https://colab.research.google.com/assets/colab-badge.svg\" alt=\"Open In Colab\"/></a>"
      ]
    },
    {
      "cell_type": "code",
      "source": [
        "#QUICKSORT\n",
        "def Partition(arr, low, high):\n",
        "  pivot = arr[high]\n",
        "  i = low - 1\n",
        "  for j in range(low, high):\n",
        "    if arr[j] <= pivot:\n",
        "      i = i + 1\n",
        "      (arr[i], arr[j]) = (arr[j], arr[i])\n",
        "  (arr[i + 1], arr[high]) = (arr[high], arr[i + 1])\n",
        "  return i + 1\n",
        "def Quick_Sort(arr, low, high):\n",
        "  if low < high:\n",
        "    pi = Partition(arr, low, high)\n",
        "    Quick_Sort(arr, low, pi - 1)\n",
        "    Quick_Sort(arr, pi + 1, high)\n",
        "data = [81, 37, 22, 19, 0, 99,56]\n",
        "print(\"Previous=\")\n",
        "print(data)\n",
        "size = len(data)\n",
        "Quick_Sort(data, 0, size - 1)\n",
        "print('New=')\n",
        "print(data)"
      ],
      "metadata": {
        "colab": {
          "base_uri": "https://localhost:8080/"
        },
        "id": "z3ZFsh8be1Sf",
        "outputId": "24354675-0a64-4f19-e33d-68dfdc44ffed"
      },
      "execution_count": 25,
      "outputs": [
        {
          "output_type": "stream",
          "name": "stdout",
          "text": [
            "Previous=\n",
            "[81, 37, 22, 19, 0, 99, 56]\n",
            "New=\n",
            "[0, 19, 22, 37, 56, 81, 99]\n"
          ]
        }
      ]
    }
  ]
}