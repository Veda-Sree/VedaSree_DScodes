{
  "nbformat": 4,
  "nbformat_minor": 0,
  "metadata": {
    "colab": {
      "provenance": [],
      "authorship_tag": "ABX9TyOvh9g0/zT9dcJwD22fWGMb",
      "include_colab_link": true
    },
    "kernelspec": {
      "name": "python3",
      "display_name": "Python 3"
    },
    "language_info": {
      "name": "python"
    }
  },
  "cells": [
    {
      "cell_type": "markdown",
      "metadata": {
        "id": "view-in-github",
        "colab_type": "text"
      },
      "source": [
        "<a href=\"https://colab.research.google.com/github/Veda-Sree/VedaSree_DScodes/blob/main/mergesort.ipynb\" target=\"_parent\"><img src=\"https://colab.research.google.com/assets/colab-badge.svg\" alt=\"Open In Colab\"/></a>"
      ]
    },
    {
      "cell_type": "code",
      "source": [
        "def Merge_Sort(a):\n",
        "    if len(a)>1:\n",
        "        mid=len(a)//2\n",
        "        left=a[:mid]\n",
        "        right=a[mid:]\n",
        "        Merge_Sort(left)\n",
        "        Merge_Sort(right)\n",
        "        i=0\n",
        "        j=0\n",
        "        k=0\n",
        "        while i<len(left) and j<len(right):\n",
        "            if left[i]<=right[j]:\n",
        "                a[k]=left[i]\n",
        "                i=i+1\n",
        "            else:\n",
        "                a[k]=right[j]\n",
        "                j=j+1\n",
        "            k=k+1\n",
        "        while i<len(left):\n",
        "            a[k]=left[i]\n",
        "            i=i+1\n",
        "            k=k+1\n",
        "        while j<len(right):\n",
        "            a[k]=right[j]\n",
        "            j=j+1\n",
        "            k=k+1\n",
        "\n",
        "a=[92,82,51,38,17,7]\n",
        "print(\"Previous=\",a)\n",
        "Merge_Sort(a)\n",
        "print(\"New=\",a)"
      ],
      "metadata": {
        "colab": {
          "base_uri": "https://localhost:8080/"
        },
        "id": "z3ZFsh8be1Sf",
        "outputId": "4385dab1-273b-4f88-cdc1-ad2132835263"
      },
      "execution_count": 23,
      "outputs": [
        {
          "output_type": "stream",
          "name": "stdout",
          "text": [
            "Previous= [92, 82, 51, 38, 17, 7]\n",
            "New= [7, 17, 38, 51, 82, 92]\n"
          ]
        }
      ]
    }
  ]
}