{
  "nbformat": 4,
  "nbformat_minor": 0,
  "metadata": {
    "colab": {
      "provenance": [],
      "authorship_tag": "ABX9TyPitScJCnta7EGhIhpvuEiu",
      "include_colab_link": true
    },
    "kernelspec": {
      "name": "python3",
      "display_name": "Python 3"
    },
    "language_info": {
      "name": "python"
    }
  },
  "cells": [
    {
      "cell_type": "markdown",
      "metadata": {
        "id": "view-in-github",
        "colab_type": "text"
      },
      "source": [
        "<a href=\"https://colab.research.google.com/github/Veda-Sree/VedaSree_DScodes/blob/main/mergesort.ipynb\" target=\"_parent\"><img src=\"https://colab.research.google.com/assets/colab-badge.svg\" alt=\"Open In Colab\"/></a>"
      ]
    },
    {
      "cell_type": "code",
      "source": [
        "def Merge_Sort(list):\n",
        "    if len(list)>1:\n",
        "        mid=len(list)//2\n",
        "        left=list[:mid]\n",
        "        right=list[mid:]\n",
        "        Merge_Sort(left)\n",
        "        Merge_Sort(right)\n",
        "        i=0\n",
        "        j=0\n",
        "        k=0\n",
        "        while i<len(left) and j<len(right):\n",
        "            if left[i]<=right[j]:\n",
        "                list[k]=left[i]\n",
        "                i=i+1\n",
        "            else:\n",
        "                list[k]=right[j]\n",
        "                j=j+1\n",
        "            k=k+1\n",
        "        while i<len(left):\n",
        "            list[k]=left[i]\n",
        "            i=i+1\n",
        "            k=k+1\n",
        "        while j<len(right):\n",
        "            list[k]=right[j]\n",
        "            j=j+1\n",
        "            k=k+1\n",
        "\n",
        "list=[]\n",
        "limit=int(input(\"size of list\"))\n",
        "for i in range (limit):\n",
        "        a=input()\n",
        "        list.append(a)\n",
        "print(\"previous=\",list)\n",
        "Merge_Sort(list)\n",
        "print(\"new= \",list)\n",
        "\n",
        "\n"
      ],
      "metadata": {
        "colab": {
          "base_uri": "https://localhost:8080/"
        },
        "id": "wATruyAS4KcM",
        "outputId": "466009c3-1320-4bd7-ae0d-d255627b5290"
      },
      "execution_count": 4,
      "outputs": [
        {
          "output_type": "stream",
          "name": "stdout",
          "text": [
            "size of list5\n",
            "0\n",
            "8\n",
            "5\n",
            "9\n",
            "0\n",
            "previous= ['0', '8', '5', '9', '0']\n",
            "new=  ['0', '0', '5', '8', '9']\n"
          ]
        }
      ]
    }
  ]
}